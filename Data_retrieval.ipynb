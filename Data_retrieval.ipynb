{
 "cells": [
  {
   "cell_type": "code",
   "execution_count": 1,
   "id": "68871231-6915-4ad3-b9f4-26df2b7f7d9a",
   "metadata": {},
   "outputs": [],
   "source": [
    "import pandas as pd\n",
    "import sqlite3 as sq"
   ]
  },
  {
   "cell_type": "code",
   "execution_count": 2,
   "id": "1897114b-5340-4217-bb51-461d06a36cb4",
   "metadata": {},
   "outputs": [],
   "source": [
    "filename='../data/Spotify_songs.csv'\n",
    "data=pd.read_csv(filename)\n",
    "dbfile='../data/baseball.db'"
   ]
  },
  {
   "cell_type": "code",
   "execution_count": 24,
   "id": "800af846-aadd-4e59-864f-98b530f8edd5",
   "metadata": {},
   "outputs": [
    {
     "name": "stdout",
     "output_type": "stream",
     "text": [
      "                       id                   name                      album  \\\n",
      "0  7lmeHLHBe4nmXzuXc0HDjk                Testify  The Battle Of Los Angeles   \n",
      "1  1wsRitfRRtWyEapl0q22o8        Guerrilla Radio  The Battle Of Los Angeles   \n",
      "2  1hR0fIFK2qRG3f3RF70pb7       Calm Like a Bomb  The Battle Of Los Angeles   \n",
      "3  2lbASgTSoDO7MTuLAXlTW0              Mic Check  The Battle Of Los Angeles   \n",
      "4  1MQTmpYOZ6fcMQc56Hdo7T  Sleep Now In the Fire  The Battle Of Los Angeles   \n",
      "\n",
      "                 album_id                       artists  \\\n",
      "0  2eia0myWFgoHuttJytCxgX  ['Rage Against The Machine']   \n",
      "1  2eia0myWFgoHuttJytCxgX  ['Rage Against The Machine']   \n",
      "2  2eia0myWFgoHuttJytCxgX  ['Rage Against The Machine']   \n",
      "3  2eia0myWFgoHuttJytCxgX  ['Rage Against The Machine']   \n",
      "4  2eia0myWFgoHuttJytCxgX  ['Rage Against The Machine']   \n",
      "\n",
      "                   artist_ids  track_number  disc_number  explicit  \\\n",
      "0  ['2d0hyoQ5ynDBnkvAbJKORj']             1            1     False   \n",
      "1  ['2d0hyoQ5ynDBnkvAbJKORj']             2            1      True   \n",
      "2  ['2d0hyoQ5ynDBnkvAbJKORj']             3            1     False   \n",
      "3  ['2d0hyoQ5ynDBnkvAbJKORj']             4            1      True   \n",
      "4  ['2d0hyoQ5ynDBnkvAbJKORj']             5            1     False   \n",
      "\n",
      "   danceability  ...  speechiness  acousticness  instrumentalness  liveness  \\\n",
      "0         0.470  ...       0.0727       0.02610          0.000011    0.3560   \n",
      "1         0.599  ...       0.1880       0.01290          0.000071    0.1550   \n",
      "2         0.315  ...       0.4830       0.02340          0.000002    0.1220   \n",
      "3         0.440  ...       0.2370       0.16300          0.000004    0.1210   \n",
      "4         0.426  ...       0.0701       0.00162          0.105000    0.0789   \n",
      "\n",
      "   valence    tempo  duration_ms  time_signature  year  release_date  \n",
      "0    0.503  117.906       210133             4.0  1999    1999-11-02  \n",
      "1    0.489  103.680       206200             4.0  1999    1999-11-02  \n",
      "2    0.370  149.749       298893             4.0  1999    1999-11-02  \n",
      "3    0.574   96.752       213640             4.0  1999    1999-11-02  \n",
      "4    0.539  127.059       205600             4.0  1999    1999-11-02  \n",
      "\n",
      "[5 rows x 24 columns]\n"
     ]
    }
   ],
   "source": [
    "smol_data=data.head()\n",
    "print(smol_data)"
   ]
  },
  {
   "cell_type": "code",
   "execution_count": 25,
   "id": "fc784e9e-8166-46fc-8c34-bee296f4d093",
   "metadata": {},
   "outputs": [],
   "source": [
    "smol_data.to_json('../data/outputfile.json')"
   ]
  },
  {
   "cell_type": "code",
   "execution_count": 26,
   "id": "8a5b3843-25ad-4a1d-81e2-e430ed8e1f9c",
   "metadata": {},
   "outputs": [],
   "source": [
    "jsondata=pd.read_json('../data/outputfile.json')"
   ]
  },
  {
   "cell_type": "code",
   "execution_count": 27,
   "id": "5c9380d7-c315-4f65-8780-1652739beb44",
   "metadata": {},
   "outputs": [
    {
     "name": "stdout",
     "output_type": "stream",
     "text": [
      "                       id                   name                      album  \\\n",
      "0  7lmeHLHBe4nmXzuXc0HDjk                Testify  The Battle Of Los Angeles   \n",
      "1  1wsRitfRRtWyEapl0q22o8        Guerrilla Radio  The Battle Of Los Angeles   \n",
      "2  1hR0fIFK2qRG3f3RF70pb7       Calm Like a Bomb  The Battle Of Los Angeles   \n",
      "3  2lbASgTSoDO7MTuLAXlTW0              Mic Check  The Battle Of Los Angeles   \n",
      "4  1MQTmpYOZ6fcMQc56Hdo7T  Sleep Now In the Fire  The Battle Of Los Angeles   \n",
      "\n",
      "                 album_id                       artists  \\\n",
      "0  2eia0myWFgoHuttJytCxgX  ['Rage Against The Machine']   \n",
      "1  2eia0myWFgoHuttJytCxgX  ['Rage Against The Machine']   \n",
      "2  2eia0myWFgoHuttJytCxgX  ['Rage Against The Machine']   \n",
      "3  2eia0myWFgoHuttJytCxgX  ['Rage Against The Machine']   \n",
      "4  2eia0myWFgoHuttJytCxgX  ['Rage Against The Machine']   \n",
      "\n",
      "                   artist_ids  track_number  disc_number  explicit  \\\n",
      "0  ['2d0hyoQ5ynDBnkvAbJKORj']             1            1     False   \n",
      "1  ['2d0hyoQ5ynDBnkvAbJKORj']             2            1      True   \n",
      "2  ['2d0hyoQ5ynDBnkvAbJKORj']             3            1     False   \n",
      "3  ['2d0hyoQ5ynDBnkvAbJKORj']             4            1      True   \n",
      "4  ['2d0hyoQ5ynDBnkvAbJKORj']             5            1     False   \n",
      "\n",
      "   danceability  ...  speechiness  acousticness  instrumentalness  liveness  \\\n",
      "0         0.470  ...       0.0727       0.02610          0.000011    0.3560   \n",
      "1         0.599  ...       0.1880       0.01290          0.000071    0.1550   \n",
      "2         0.315  ...       0.4830       0.02340          0.000002    0.1220   \n",
      "3         0.440  ...       0.2370       0.16300          0.000004    0.1210   \n",
      "4         0.426  ...       0.0701       0.00162          0.105000    0.0789   \n",
      "\n",
      "   valence    tempo  duration_ms  time_signature  year  release_date  \n",
      "0    0.503  117.906       210133               4  1999    1999-11-02  \n",
      "1    0.489  103.680       206200               4  1999    1999-11-02  \n",
      "2    0.370  149.749       298893               4  1999    1999-11-02  \n",
      "3    0.574   96.752       213640               4  1999    1999-11-02  \n",
      "4    0.539  127.059       205600               4  1999    1999-11-02  \n",
      "\n",
      "[5 rows x 24 columns]\n"
     ]
    }
   ],
   "source": [
    "print(jsondata.head())"
   ]
  },
  {
   "cell_type": "code",
   "execution_count": 13,
   "id": "bd732203-ffeb-4fd9-96cb-c1afd5fe3522",
   "metadata": {},
   "outputs": [],
   "source": [
    "con=sq.Connection(dbfile)\n",
    "query='''SELECT * FROM schools'''"
   ]
  },
  {
   "cell_type": "code",
   "execution_count": 15,
   "id": "9e9d3fa5-f69f-4531-a3ac-1b143cca60c0",
   "metadata": {},
   "outputs": [
    {
     "name": "stdout",
     "output_type": "stream",
     "text": [
      "   index    schoolID                     name_full         city state country\n",
      "0      0  abilchrist  Abilene Christian University      Abilene    TX     USA\n",
      "1      1     adelphi            Adelphi University  Garden City    NY     USA\n",
      "2      2    adrianmi                Adrian College       Adrian    MI     USA\n",
      "3      3       akron           University of Akron        Akron    OH     USA\n",
      "4      4     alabama         University of Alabama   Tuscaloosa    AL     USA\n"
     ]
    }
   ],
   "source": [
    "dbdata=pd.read_sql(query,con)\n",
    "print(dbdata.head())"
   ]
  },
  {
   "cell_type": "code",
   "execution_count": null,
   "id": "b57f0d73-7175-41b3-88aa-5f9da728e04e",
   "metadata": {},
   "outputs": [],
   "source": []
  }
 ],
 "metadata": {
  "kernelspec": {
   "display_name": "Python 3",
   "language": "python",
   "name": "python3"
  },
  "language_info": {
   "codemirror_mode": {
    "name": "ipython",
    "version": 3
   },
   "file_extension": ".py",
   "mimetype": "text/x-python",
   "name": "python",
   "nbconvert_exporter": "python",
   "pygments_lexer": "ipython3",
   "version": "3.9.5"
  }
 },
 "nbformat": 4,
 "nbformat_minor": 5
}
